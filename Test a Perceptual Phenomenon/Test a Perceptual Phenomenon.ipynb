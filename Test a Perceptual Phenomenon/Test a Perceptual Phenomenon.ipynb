{
 "cells": [
  {
   "cell_type": "code",
   "execution_count": 48,
   "metadata": {},
   "outputs": [],
   "source": [
    "import pandas\n",
    "import seaborn\n",
    "from math import sqrt\n",
    "%matplotlib inline\n",
    "%config InlineBackend.figure_format = 'retina'"
   ]
  },
  {
   "cell_type": "markdown",
   "metadata": {},
   "source": [
    "# Test a Perceptual Phenomenon"
   ]
  },
  {
   "cell_type": "markdown",
   "metadata": {},
   "source": [
    "### The Stroop Test\n",
    "\n",
    "The Stroop test involves showing color words to the participant, where the words are printed in a color. The color can either be printed congruously, <font color='green'>Green</font> <font color='red'>Red</font> <font color='blue'>Blue</font>, or incongruously, <font color='brown'>Green</font> <font color='purple'>Red</font> <font color='red'>Blue</font>. The participant must say the words color, and the time it takes them to get the correct color is recorded.\n",
    "\n",
    "In this project we examine two samples using a statistical test to determine if the difference is statistically significant."
   ]
  },
  {
   "cell_type": "markdown",
   "metadata": {},
   "source": [
    "### 1. What is our independent variable? What is our dependent variable?\n",
    "\n",
    "- Our independant variable is the configuration of the words and their colors, in this test we have the congruent and incongruent samples.\n",
    "- The dependant variable is the time it takes for the participant to correctly identify all the colors."
   ]
  },
  {
   "cell_type": "markdown",
   "metadata": {},
   "source": [
    "### 2. What is an appropriate set of hypotheses for this task? What kind of statistical test do you expect to perform? Justify your choices.\n",
    "\n",
    "Since we have samples under two different conditions but no information about the general population, a dependent sample t-test is required. First, we have to decide whether to do a one-tailed or two-tailed test. In this case, a two tailed test is appropriate because we do not have much information about the direction of the effect. In this case, the null hypothesis will be that the mean of the two populations are the same. The alternative hypothesis is that the two populations have a statistically significant difference.\n",
    "\n",
    "$$H_0:\\mu_i - \\mu_c = 0 $$\n",
    "$$H_A:\\mu_i - \\mu_c \\neq 0$$\n",
    "\n",
    "Where:  \n",
    "$\\mu_i$ is the population mean of the incongruent case  \n",
    "$\\mu_c$ is the population mean of the congruent case\n",
    "\n",
    "Key assumptions of using this t test are that the populations are normally distributed, that the samples are randomly drawn, and that we have large enough sample size."
   ]
  },
  {
   "cell_type": "markdown",
   "metadata": {},
   "source": [
    "### 3. Report some descriptive statistics regarding this dataset. Include at least one measure of central tendency and at least one measure of variability.\n",
    "\n",
    "After performing the stroop test myself, I recorded a value of 13.048 for the congruent test and 19.848 for the incongruent test. We will move on to analyzing the profided data. First we will read in the data using pandas."
   ]
  },
  {
   "cell_type": "code",
   "execution_count": 9,
   "metadata": {},
   "outputs": [
    {
     "data": {
      "text/html": [
       "<div>\n",
       "<style>\n",
       "    .dataframe thead tr:only-child th {\n",
       "        text-align: right;\n",
       "    }\n",
       "\n",
       "    .dataframe thead th {\n",
       "        text-align: left;\n",
       "    }\n",
       "\n",
       "    .dataframe tbody tr th {\n",
       "        vertical-align: top;\n",
       "    }\n",
       "</style>\n",
       "<table border=\"1\" class=\"dataframe\">\n",
       "  <thead>\n",
       "    <tr style=\"text-align: right;\">\n",
       "      <th></th>\n",
       "      <th>Congruent</th>\n",
       "      <th>Incongruent</th>\n",
       "    </tr>\n",
       "  </thead>\n",
       "  <tbody>\n",
       "    <tr>\n",
       "      <th>0</th>\n",
       "      <td>12.079</td>\n",
       "      <td>19.278</td>\n",
       "    </tr>\n",
       "    <tr>\n",
       "      <th>1</th>\n",
       "      <td>16.791</td>\n",
       "      <td>18.741</td>\n",
       "    </tr>\n",
       "    <tr>\n",
       "      <th>2</th>\n",
       "      <td>9.564</td>\n",
       "      <td>21.214</td>\n",
       "    </tr>\n",
       "    <tr>\n",
       "      <th>3</th>\n",
       "      <td>8.630</td>\n",
       "      <td>15.687</td>\n",
       "    </tr>\n",
       "    <tr>\n",
       "      <th>4</th>\n",
       "      <td>14.669</td>\n",
       "      <td>22.803</td>\n",
       "    </tr>\n",
       "  </tbody>\n",
       "</table>\n",
       "</div>"
      ],
      "text/plain": [
       "   Congruent  Incongruent\n",
       "0     12.079       19.278\n",
       "1     16.791       18.741\n",
       "2      9.564       21.214\n",
       "3      8.630       15.687\n",
       "4     14.669       22.803"
      ]
     },
     "execution_count": 9,
     "metadata": {},
     "output_type": "execute_result"
    }
   ],
   "source": [
    "stroop_data = pandas.read_csv('stroopdata.csv')\n",
    "\n",
    "stroop_data.head()"
   ]
  },
  {
   "cell_type": "markdown",
   "metadata": {},
   "source": [
    "We can see that there are two columns, one for congruent data and one for incongruent data. Next we will add a column for the difference of the two columns and then provide some statistics."
   ]
  },
  {
   "cell_type": "code",
   "execution_count": 20,
   "metadata": {},
   "outputs": [
    {
     "data": {
      "text/html": [
       "<div>\n",
       "<style>\n",
       "    .dataframe thead tr:only-child th {\n",
       "        text-align: right;\n",
       "    }\n",
       "\n",
       "    .dataframe thead th {\n",
       "        text-align: left;\n",
       "    }\n",
       "\n",
       "    .dataframe tbody tr th {\n",
       "        vertical-align: top;\n",
       "    }\n",
       "</style>\n",
       "<table border=\"1\" class=\"dataframe\">\n",
       "  <thead>\n",
       "    <tr style=\"text-align: right;\">\n",
       "      <th></th>\n",
       "      <th>Congruent</th>\n",
       "      <th>Incongruent</th>\n",
       "      <th>Difference</th>\n",
       "    </tr>\n",
       "  </thead>\n",
       "  <tbody>\n",
       "    <tr>\n",
       "      <th>count</th>\n",
       "      <td>24.000000</td>\n",
       "      <td>24.000000</td>\n",
       "      <td>24.000000</td>\n",
       "    </tr>\n",
       "    <tr>\n",
       "      <th>mean</th>\n",
       "      <td>14.051125</td>\n",
       "      <td>22.015917</td>\n",
       "      <td>7.964792</td>\n",
       "    </tr>\n",
       "    <tr>\n",
       "      <th>std</th>\n",
       "      <td>3.559358</td>\n",
       "      <td>4.797057</td>\n",
       "      <td>4.864827</td>\n",
       "    </tr>\n",
       "    <tr>\n",
       "      <th>min</th>\n",
       "      <td>8.630000</td>\n",
       "      <td>15.687000</td>\n",
       "      <td>1.950000</td>\n",
       "    </tr>\n",
       "    <tr>\n",
       "      <th>25%</th>\n",
       "      <td>11.895250</td>\n",
       "      <td>18.716750</td>\n",
       "      <td>3.645500</td>\n",
       "    </tr>\n",
       "    <tr>\n",
       "      <th>50%</th>\n",
       "      <td>14.356500</td>\n",
       "      <td>21.017500</td>\n",
       "      <td>7.666500</td>\n",
       "    </tr>\n",
       "    <tr>\n",
       "      <th>75%</th>\n",
       "      <td>16.200750</td>\n",
       "      <td>24.051500</td>\n",
       "      <td>10.258500</td>\n",
       "    </tr>\n",
       "    <tr>\n",
       "      <th>max</th>\n",
       "      <td>22.328000</td>\n",
       "      <td>35.255000</td>\n",
       "      <td>21.919000</td>\n",
       "    </tr>\n",
       "  </tbody>\n",
       "</table>\n",
       "</div>"
      ],
      "text/plain": [
       "       Congruent  Incongruent  Difference\n",
       "count  24.000000    24.000000   24.000000\n",
       "mean   14.051125    22.015917    7.964792\n",
       "std     3.559358     4.797057    4.864827\n",
       "min     8.630000    15.687000    1.950000\n",
       "25%    11.895250    18.716750    3.645500\n",
       "50%    14.356500    21.017500    7.666500\n",
       "75%    16.200750    24.051500   10.258500\n",
       "max    22.328000    35.255000   21.919000"
      ]
     },
     "execution_count": 20,
     "metadata": {},
     "output_type": "execute_result"
    }
   ],
   "source": [
    "stroop_data['Difference'] = stroop_data['Incongruent'] - stroop_data['Congruent']\n",
    "\n",
    "stroop_data.describe()"
   ]
  },
  {
   "cell_type": "markdown",
   "metadata": {},
   "source": [
    "Looking at the descriptive data, we see that there are 24 total samples. The mean time for the congruent case is 14.05 seconds with a sample standard deviation of 3.56 seconds. For the incongruent case, the mean time is 22.02 seconds with a standard deviation of 4.80 seconds.\n",
    "\n",
    "From the difference column we can get a point estimate of the mean difference, 7.96, as well as the standard deviation of the difference, 4.86.\n",
    "\n",
    "To summarize:\n",
    "$$\\bar{x}_i - \\bar{x}_c = 7.96$$\n",
    "$$s_D = 4.86$$\n",
    "\n",
    "Where:  \n",
    "$\\bar{x}_i$ is the sample mean of the incongruent case  \n",
    "$\\bar{x}_c$ is the sample mean of the congruent case  \n",
    "$s_D$ is the standard deviation of the difference"
   ]
  },
  {
   "cell_type": "markdown",
   "metadata": {},
   "source": [
    "### 4. Provide one or two visualizations that show the distribution of the sample data. Write one or two sentences noting what you observe about the plot or plots."
   ]
  },
  {
   "cell_type": "markdown",
   "metadata": {},
   "source": [
    "We can easily make histograms for each of our variables, starting with the congruent case."
   ]
  },
  {
   "cell_type": "code",
   "execution_count": 43,
   "metadata": {},
   "outputs": [
    {
     "data": {
      "text/plain": [
       "<matplotlib.axes._subplots.AxesSubplot at 0x118c50f98>"
      ]
     },
     "execution_count": 43,
     "metadata": {},
     "output_type": "execute_result"
    },
    {
     "data": {
      "image/png": "[encoded data removed]",
      "text/plain": [
       "<matplotlib.figure.Figure at 0x118ab7b70>"
      ]
     },
     "metadata": {
      "image/png": {
       "height": 248,
       "width": 361
      }
     },
     "output_type": "display_data"
    }
   ],
   "source": [
    "stroop_data['Congruent'].hist(bins = 8)"
   ]
  },
  {
   "cell_type": "markdown",
   "metadata": {},
   "source": [
    "Taking a look at the congruent case, we see that the data is faily well distributed with a high point at about 15 seconds. There are several points lower than 10 seconds which might skew the distribution."
   ]
  },
  {
   "cell_type": "code",
   "execution_count": 44,
   "metadata": {},
   "outputs": [
    {
     "data": {
      "text/plain": [
       "<matplotlib.axes._subplots.AxesSubplot at 0x118eada90>"
      ]
     },
     "execution_count": 44,
     "metadata": {},
     "output_type": "execute_result"
    },
    {
     "data": {
      "image/png": "[encoded data removed]",
      "text/plain": [
       "<matplotlib.figure.Figure at 0x118aad240>"
      ]
     },
     "metadata": {
      "image/png": {
       "height": 248,
       "width": 361
      }
     },
     "output_type": "display_data"
    }
   ],
   "source": [
    "stroop_data['Incongruent'].hist(bins = 8)"
   ]
  },
  {
   "cell_type": "markdown",
   "metadata": {},
   "source": [
    "Taking a look at the distribution of the incongruent case, we see again that it is fairly normally distributed. However, this time the outliers are high with values between 32.5 and 35 seconds. Overall both distributions should work for the statistical test."
   ]
  },
  {
   "cell_type": "markdown",
   "metadata": {},
   "source": [
    "### 5. Now, perform the statistical test and report your results. What is your confidence level and your critical statistic value? Do you reject the null hypothesis or fail to reject it? Come to a conclusion in terms of the experiment task. Did the results match up with your expectations?"
   ]
  },
  {
   "cell_type": "code",
   "execution_count": 55,
   "metadata": {},
   "outputs": [
    {
     "data": {
      "text/plain": [
       "0.99302863477834058"
      ]
     },
     "execution_count": 55,
     "metadata": {},
     "output_type": "execute_result"
    }
   ],
   "source": [
    "sem = stroop_data['Difference'].std() / sqrt(stroop_data['Difference'].count())\n",
    "sem"
   ]
  },
  {
   "cell_type": "markdown",
   "metadata": {},
   "source": [
    "To perform the t test, first we need to calculate the standard error. For the dependent sample t-test, the standard error is as follows:\n",
    "\n",
    "$$SEM = \\frac{s_D}{\\sqrt{n}} = \\frac{4.86}{\\sqrt{24}} = 0.99$$\n",
    "\n",
    "Where:  \n",
    "$SEM$ is the standard error  \n",
    "$n$ is the number of samples"
   ]
  },
  {
   "cell_type": "code",
   "execution_count": 52,
   "metadata": {},
   "outputs": [
    {
     "data": {
      "text/plain": [
       "8.020706944109957"
      ]
     },
     "execution_count": 52,
     "metadata": {},
     "output_type": "execute_result"
    }
   ],
   "source": [
    "stroop_data['Difference'].mean() / sem"
   ]
  },
  {
   "cell_type": "markdown",
   "metadata": {},
   "source": [
    "Next, we calculate the t-statistic as follows:\n",
    "\n",
    "$$ t = \\frac{\\bar{x}_i - \\bar{x}_c}{SEM} = \\frac{7.96}{0.99} = 8.04$$\n",
    "\n",
    "Where:  \n",
    "$t$ is the t-statistic"
   ]
  },
  {
   "cell_type": "markdown",
   "metadata": {},
   "source": [
    "Note that when you calculate without rounding you get a slightly different value:\n",
    "$$t = 8.02$$"
   ]
  },
  {
   "cell_type": "markdown",
   "metadata": {},
   "source": [
    "Now we have to choose a t-critical value. With a t-statistic of $8.02$ we are off the end of the t table. We can choose an extremely high alpha value and still have a statistically significant result. With this in mind we will select $\\alpha = 0.001$. With $n = 24$, we have $23$ degrees of freedom. This means the t-critical value is $\\pm3.768$ for a two tailed t test. To summarize:\n",
    "\n",
    "$$ t = 8.02 $$\n",
    "$$ \\alpha = 0.001$$\n",
    "$$ df = 23 $$\n",
    "$$t_{crit} = \\pm3.768$$\n",
    "\n",
    "Where:  \n",
    "$\\alpha$ is the significance level  \n",
    "$df$ is the degrees of freedom  \n",
    "$t_{crit}$ is the critical t-statistic"
   ]
  },
  {
   "cell_type": "markdown",
   "metadata": {},
   "source": [
    "Since the t statistics is much higher than the critical value, we will reject $H_0$ with $p < 0.001$.\n",
    "$$ t > t_{crit}: Reject\\;  H_0$$"
   ]
  },
  {
   "cell_type": "markdown",
   "metadata": {},
   "source": [
    "Rejecting the null hypothesis provides evidence for the Stroop effect implying that reaction time is slower when presented with incongruent stimulus. This makes sense with my expectations that the time would be longer for the task with the colors different than the written words."
   ]
  },
  {
   "cell_type": "markdown",
   "metadata": {},
   "source": [
    "### 6. Optional: What do you think is responsible for the effects observed? Can you think of an alternative or similar task that would result in a similar effect? Some research about the problem will be helpful for thinking about these two questions!"
   ]
  },
  {
   "cell_type": "markdown",
   "metadata": {},
   "source": [
    "Several hypothesis exist for why the incongruous case takes longer to correctly say than the congruous case. Also, studies have shown that congruent case is faster than a neutral case. One prominent hypothesis is that the cognitive load of the task correlates with the time taken to complete it correctly. With incongruent stimulus, the cognitive load is higher so it takes longer to say the correct color.\n",
    "\n",
    "Other tests that might be used to have varying amounts of cognitive load when saying the color:  \n",
    "- Have a voice saying a correct or incorrect color when showing the colored words\n",
    "- Change the orientation of the words\n",
    "- Use words that are not related to the colors at all\n",
    "\n",
    "I'm sure there are many other possible tests, but those are just a few ideas!"
   ]
  },
  {
   "cell_type": "markdown",
   "metadata": {},
   "source": [
    "### Sources:\n",
    "\n",
    "https://en.wikipedia.org/wiki/Stroop_effect  \n",
    "http://psychclassics.yorku.ca/Stroop/  \n",
    "https://imotions.com/blog/the-stroop-effect/"
   ]
  }
 ],
 "metadata": {
  "anaconda-cloud": {},
  "kernelspec": {
   "display_name": "Python [conda env:py3]",
   "language": "python",
   "name": "conda-env-py3-py"
  },
  "language_info": {
   "codemirror_mode": {
    "name": "ipython",
    "version": 3
   },
   "file_extension": ".py",
   "mimetype": "text/x-python",
   "name": "python",
   "nbconvert_exporter": "python",
   "pygments_lexer": "ipython3",
   "version": "3.6.1"
  }
 },
 "nbformat": 4,
 "nbformat_minor": 2
}
